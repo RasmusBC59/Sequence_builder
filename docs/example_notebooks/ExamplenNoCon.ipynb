{
 "cells": [
  {
   "cell_type": "code",
   "execution_count": 1,
   "id": "identical-remark",
   "metadata": {},
   "outputs": [],
   "source": [
    "#%matplotlib\n",
    "import broadbean as bb\n",
    "from broadbean.plotting import plotter\n",
    "from sequencebuilder.sequence_builder import SequenceBuilder\n",
    "from sequencebuilder.awg_controller import AWGController\n"
   ]
  },
  {
   "cell_type": "code",
   "execution_count": 2,
   "id": "robust-finder",
   "metadata": {},
   "outputs": [],
   "source": [
    "sequencebuilder = AWGController('builder')"
   ]
  },
  {
   "cell_type": "code",
   "execution_count": 3,
   "id": "boolean-patent",
   "metadata": {},
   "outputs": [
    {
     "data": {
      "text/plain": [
       "-1"
      ]
     },
     "execution_count": 3,
     "metadata": {},
     "output_type": "execute_result"
    }
   ],
   "source": [
    "sequencebuilder.seq.seq.SR"
   ]
  },
  {
   "cell_type": "code",
   "execution_count": 4,
   "id": "regional-freedom",
   "metadata": {},
   "outputs": [],
   "source": [
    "sequencebuilder.SR.set(6e10)\n",
    "sequencebuilder.readout_freq_1()"
   ]
  },
  {
   "cell_type": "code",
   "execution_count": 5,
   "id": "suspended-norman",
   "metadata": {},
   "outputs": [],
   "source": [
    "sequencebuilder.readout_freq_1(6.6104e9)\n",
    "sequencebuilder.cycle_time = 6e-6\n",
    "sequencebuilder.pulse_time = 0.6e-6\n",
    "sequencebuilder.readout_time = 2.5e-6\n",
    "sequencebuilder.marker_offset = 0e-9\n",
    "npts = 5\n",
    "start = 4.5e3\n",
    "stop = 5.0e6"
   ]
  },
  {
   "cell_type": "code",
   "execution_count": 6,
   "id": "legal-nomination",
   "metadata": {},
   "outputs": [],
   "source": [
    "\n",
    "sequencebuilder.MultiQ_SSB_Spec_NoOverlap(start, stop, npts)"
   ]
  },
  {
   "cell_type": "code",
   "execution_count": 7,
   "id": "passive-exhaust",
   "metadata": {},
   "outputs": [
    {
     "data": {
      "image/png": "[encoded data removed]",
      "text/plain": [
       "<Figure size 432x288 with 24 Axes>"
      ]
     },
     "metadata": {
      "needs_background": "light"
     },
     "output_type": "display_data"
    }
   ],
   "source": [
    "sequencebuilder.seq.plot()"
   ]
  },
  {
   "cell_type": "code",
   "execution_count": null,
   "id": "critical-honey",
   "metadata": {},
   "outputs": [],
   "source": [
    "sequencebuilder.seq.plot_elem_nr(3)"
   ]
  },
  {
   "cell_type": "code",
   "execution_count": null,
   "id": "amazing-television",
   "metadata": {},
   "outputs": [],
   "source": [
    "dis = sequencebuilder.seq.snapshot()"
   ]
  },
  {
   "cell_type": "code",
   "execution_count": null,
   "id": "irish-craft",
   "metadata": {},
   "outputs": [],
   "source": [
    "snapseq = bb.Sequence().sequence_from_description(dis)\n"
   ]
  },
  {
   "cell_type": "code",
   "execution_count": null,
   "id": "consistent-auditor",
   "metadata": {},
   "outputs": [],
   "source": [
    "plotter(snapseq)"
   ]
  },
  {
   "cell_type": "code",
   "execution_count": null,
   "id": "particular-iceland",
   "metadata": {},
   "outputs": [],
   "source": [
    "sequencebuilder.seq_path('test.json')\n",
    "sequencebuilder.seq.to_file()"
   ]
  },
  {
   "cell_type": "code",
   "execution_count": null,
   "id": "exceptional-venezuela",
   "metadata": {},
   "outputs": [],
   "source": [
    "sequencebuilder.seq.from_file()"
   ]
  },
  {
   "cell_type": "code",
   "execution_count": null,
   "id": "champion-recognition",
   "metadata": {},
   "outputs": [],
   "source": [
    "sequencebuilder.seq.seq = snapseq"
   ]
  },
  {
   "cell_type": "code",
   "execution_count": null,
   "id": "single-registration",
   "metadata": {},
   "outputs": [],
   "source": [
    "sequencebuilder.seq.plot_elem_nr(1)"
   ]
  },
  {
   "cell_type": "code",
   "execution_count": null,
   "id": "hungry-imagination",
   "metadata": {},
   "outputs": [],
   "source": []
  },
  {
   "cell_type": "code",
   "execution_count": null,
   "id": "occupational-nightmare",
   "metadata": {},
   "outputs": [],
   "source": []
  }
 ],
 "metadata": {
  "kernelspec": {
   "display_name": "Python 3",
   "language": "python",
   "name": "python3"
  },
  "language_info": {
   "codemirror_mode": {
    "name": "ipython",
    "version": 3
   },
   "file_extension": ".py",
   "mimetype": "text/x-python",
   "name": "python",
   "nbconvert_exporter": "python",
   "pygments_lexer": "ipython3",
   "version": "3.7.5"
  }
 },
 "nbformat": 4,
 "nbformat_minor": 5
}
