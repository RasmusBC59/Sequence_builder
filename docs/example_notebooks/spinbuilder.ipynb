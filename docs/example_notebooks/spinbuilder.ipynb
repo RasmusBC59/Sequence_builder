{
 "cells": [
  {
   "cell_type": "code",
   "execution_count": 1,
   "id": "identical-remark",
   "metadata": {},
   "outputs": [],
   "source": [
    "#%matplotlib nbagg\n",
    "import broadbean as bb\n",
    "import numpy as np\n",
    "from broadbean.plotting import plotter\n",
    "from sequencebuilder.sequence_builder import SequenceBuilder\n",
    "from sequencebuilder.awg_controller import AWGController\n",
    "from sequencebuilder.spinbuilder import spin_funnel_seq\n",
    "ramp = bb.PulseAtoms.ramp"
   ]
  },
  {
   "cell_type": "code",
   "execution_count": 2,
   "id": "82eca692",
   "metadata": {},
   "outputs": [
    {
     "name": "stdout",
     "output_type": "stream",
     "text": [
      "1e-06\n",
      "2e-06\n",
      "3e-06\n",
      "4e-06\n",
      "4.9999999999999996e-06\n",
      "5.999999999999999e-06\n",
      "6.999999999999999e-06\n",
      "hep\n",
      "1e-06\n",
      "2e-06\n",
      "3e-06\n",
      "4e-06\n",
      "4.9999999999999996e-06\n",
      "5.999999999999999e-06\n",
      "6.999999999999999e-06\n",
      "hep\n",
      "1e-06\n",
      "2e-06\n",
      "3e-06\n",
      "4e-06\n",
      "4.9999999999999996e-06\n",
      "5.999999999999999e-06\n",
      "6.999999999999999e-06\n",
      "hep\n",
      "1e-06\n",
      "2e-06\n",
      "3e-06\n",
      "4e-06\n",
      "4.9999999999999996e-06\n",
      "5.999999999999999e-06\n",
      "6.999999999999999e-06\n",
      "hep\n",
      "1e-06\n",
      "2e-06\n",
      "3e-06\n",
      "4e-06\n",
      "4.9999999999999996e-06\n",
      "5.999999999999999e-06\n",
      "6.999999999999999e-06\n",
      "hep\n",
      "1e-06\n",
      "2e-06\n",
      "3e-06\n",
      "4e-06\n",
      "4.9999999999999996e-06\n",
      "5.999999999999999e-06\n",
      "6.999999999999999e-06\n",
      "hep\n"
     ]
    }
   ],
   "source": [
    "t = 1e-6\n",
    "eta1 = np.linspace(-1, 0, num=3, endpoint=True)\n",
    "eta2 = np.linspace(0, 0.5, num=3, endpoint=True)\n",
    "a1 = (0,1,t)\n",
    "a2 = (1,1,t)\n",
    "a3 = (2,3,t)\n",
    "eta = (eta1, eta2,t)\n",
    "readout = (2,2,t)\n",
    "a5 = (0,0,t)\n",
    "a6 = (-1,0,t)\n",
    "seq = spin_funnel_seq(a1, a2, a3, eta, readout, a5, a6)"
   ]
  },
  {
   "cell_type": "code",
   "execution_count": 3,
   "id": "2596e821",
   "metadata": {},
   "outputs": [
    {
     "data": {
      "image/png": "[encoded data removed]",
      "text/plain": [
       "<Figure size 432x288 with 8 Axes>"
      ]
     },
     "metadata": {
      "needs_background": "light"
     },
     "output_type": "display_data"
    }
   ],
   "source": [
    "plotter(seq)"
   ]
  },
  {
   "cell_type": "code",
   "execution_count": null,
   "id": "36eab2e6",
   "metadata": {},
   "outputs": [],
   "source": [
    "def spin_funnel_blue_print(a1, a2, a3, eta, readout, a5, a6):\n",
    "    bp = bb.BluePrint()\n",
    "    bp.insertSegment(0, ramp, (a1[0], a1[0]), name='aa', dur=a1[1])\n",
    "    bp.insertSegment(1, ramp, (a1[0], a2[0]), name='ab', dur=a2[1])\n",
    "    bp.insertSegment(2, ramp, (a3[0], a3[0]), name='ac', dur=a3[1])\n",
    "    bp.insertSegment(3, ramp, (eta[0], eta[0]), name='eta', dur=eta[1])\n",
    "    bp.insertSegment(4, ramp, (readout[0], readout[0]), name='readout', dur=readout[1])\n",
    "    bp.insertSegment(5, ramp, (readout[0], a5[0]), name='ad', dur=a5[1])\n",
    "    bp.insertSegment(6, ramp, (a6[0], a6[0]), name='ae', dur=a6[1])\n",
    "    return bp"
   ]
  },
  {
   "cell_type": "code",
   "execution_count": null,
   "id": "cd04e26d",
   "metadata": {},
   "outputs": [],
   "source": [
    "print(seq)"
   ]
  },
  {
   "cell_type": "code",
   "execution_count": null,
   "id": "816837e0",
   "metadata": {},
   "outputs": [],
   "source": [
    "t = 1e-6\n",
    "bp = spin_funnel_blue_print((0,t), (1,0.5*t), (1,1*t), (-1,1*t), (1,2*t), (1,0.3*t), (2,2*t))"
   ]
  },
  {
   "cell_type": "code",
   "execution_count": null,
   "id": "bbdbcd86",
   "metadata": {},
   "outputs": [],
   "source": [
    "bp.setSR(1e7)\n",
    "plotter(bp)"
   ]
  },
  {
   "cell_type": "code",
   "execution_count": null,
   "id": "01fbff32",
   "metadata": {},
   "outputs": [],
   "source": [
    "bp.description"
   ]
  },
  {
   "cell_type": "code",
   "execution_count": null,
   "id": "c2e1ed60",
   "metadata": {},
   "outputs": [],
   "source": [
    "seq = bb.Sequence()\n",
    "etarange = -1*np.arange(0,1,0.33)\n",
    "for i, eta in enumerate(etarange):\n",
    "    elem = bb.Element()\n",
    "    print(eta)\n",
    "    bp = spin_funnel_blue_print((0,t), (1,0.5*t), (1,1*t), (eta,1*t), (1,2*t), (1,0.3*t), (2,2*t))\n",
    "    bp2 = spin_funnel_blue_print((0,t), (1,0.5*t), (1,1*t), (-0.5*eta,1*t), (1,2*t), (1,0.3*t), (2,2*t))\n",
    "    bp.setSR(1e7)\n",
    "    bp2.setSR(1e7)\n",
    "    elem.addBluePrint(1, bp)\n",
    "    elem.addBluePrint(2, bp2)\n",
    "    seq.addElement(i+1, elem)"
   ]
  },
  {
   "cell_type": "code",
   "execution_count": null,
   "id": "cff39201",
   "metadata": {},
   "outputs": [],
   "source": [
    "elem.description['{}'.format(elem.channels[0])]"
   ]
  },
  {
   "cell_type": "code",
   "execution_count": null,
   "id": "c52b2c88",
   "metadata": {},
   "outputs": [],
   "source": [
    "elem.description['{}'.format(0+1)]['segment_%02d'%(0+1)]['arguments']['start']"
   ]
  },
  {
   "cell_type": "code",
   "execution_count": null,
   "id": "0788dacc",
   "metadata": {},
   "outputs": [],
   "source": [
    "seq.setSR(1e7)\n",
    "\n",
    "plotter(seq)"
   ]
  },
  {
   "cell_type": "code",
   "execution_count": null,
   "id": "robust-finder",
   "metadata": {},
   "outputs": [],
   "source": [
    "sequencebuilder = AWGController('builder')"
   ]
  },
  {
   "cell_type": "code",
   "execution_count": null,
   "id": "boolean-patent",
   "metadata": {},
   "outputs": [],
   "source": [
    "sequencebuilder.seq.seq.SR"
   ]
  },
  {
   "cell_type": "code",
   "execution_count": null,
   "id": "regional-freedom",
   "metadata": {},
   "outputs": [],
   "source": [
    "sequencebuilder.SR.set(6e10)\n",
    "sequencebuilder.readout_freq_1()"
   ]
  },
  {
   "cell_type": "code",
   "execution_count": null,
   "id": "suspended-norman",
   "metadata": {},
   "outputs": [],
   "source": [
    "sequencebuilder.readout_freq_1(6.6104e9)\n",
    "sequencebuilder.cycle_time = 6e-6\n",
    "sequencebuilder.pulse_time = 1.6e-6\n",
    "sequencebuilder.readout_time = 2.5e-6\n",
    "sequencebuilder.marker_offset = 0e-9\n",
    "npts = 5\n",
    "start = 4.5e3\n",
    "stop = 5.0e6"
   ]
  },
  {
   "cell_type": "code",
   "execution_count": null,
   "id": "legal-nomination",
   "metadata": {},
   "outputs": [],
   "source": [
    "\n",
    "sequencebuilder.MultiQ_Lifetime_overlap(start, stop, npts)"
   ]
  },
  {
   "cell_type": "code",
   "execution_count": null,
   "id": "passive-exhaust",
   "metadata": {},
   "outputs": [],
   "source": [
    "sequencebuilder.seq.plot()"
   ]
  },
  {
   "cell_type": "code",
   "execution_count": null,
   "id": "critical-honey",
   "metadata": {},
   "outputs": [],
   "source": [
    "sequencebuilder.seq.plot_elem_nr(3)"
   ]
  },
  {
   "cell_type": "code",
   "execution_count": null,
   "id": "amazing-television",
   "metadata": {},
   "outputs": [],
   "source": [
    "dis = sequencebuilder.seq.snapshot()"
   ]
  },
  {
   "cell_type": "code",
   "execution_count": null,
   "id": "irish-craft",
   "metadata": {},
   "outputs": [],
   "source": [
    "snapseq = bb.Sequence().sequence_from_description(dis)\n"
   ]
  },
  {
   "cell_type": "code",
   "execution_count": null,
   "id": "consistent-auditor",
   "metadata": {},
   "outputs": [],
   "source": [
    "plotter(snapseq)"
   ]
  },
  {
   "cell_type": "code",
   "execution_count": null,
   "id": "particular-iceland",
   "metadata": {},
   "outputs": [],
   "source": [
    "sequencebuilder.seq_path('test.json')\n",
    "sequencebuilder.seq.to_file()"
   ]
  },
  {
   "cell_type": "code",
   "execution_count": null,
   "id": "exceptional-venezuela",
   "metadata": {},
   "outputs": [],
   "source": [
    "sequencebuilder.seq.from_file()"
   ]
  },
  {
   "cell_type": "code",
   "execution_count": null,
   "id": "champion-recognition",
   "metadata": {},
   "outputs": [],
   "source": [
    "sequencebuilder.seq.seq = snapseq"
   ]
  },
  {
   "cell_type": "code",
   "execution_count": null,
   "id": "single-registration",
   "metadata": {},
   "outputs": [],
   "source": [
    "sequencebuilder.seq.plot_elem_nr(1)"
   ]
  },
  {
   "cell_type": "code",
   "execution_count": null,
   "id": "hungry-imagination",
   "metadata": {},
   "outputs": [],
   "source": []
  },
  {
   "cell_type": "code",
   "execution_count": null,
   "id": "occupational-nightmare",
   "metadata": {},
   "outputs": [],
   "source": [
    "sequencebuilder.readout_freq_1(6.6104e9)\n",
    "sequencebuilder.cycle_time = 6e-6\n",
    "sequencebuilder.pulse_time = 0.6e-6\n",
    "sequencebuilder.readout_time = 2.5e-6\n",
    "sequencebuilder.marker_offset = 0e-9\n",
    "npts = 5\n",
    "start = 1e-9\n",
    "stop = 5e-7"
   ]
  },
  {
   "cell_type": "code",
   "execution_count": null,
   "id": "measured-pressure",
   "metadata": {},
   "outputs": [],
   "source": [
    "\n",
    "sequencebuilder.give_me_a_name(start, stop, npts)"
   ]
  },
  {
   "cell_type": "code",
   "execution_count": null,
   "id": "white-miniature",
   "metadata": {},
   "outputs": [],
   "source": [
    "sequencebuilder.seq.plot()"
   ]
  },
  {
   "cell_type": "code",
   "execution_count": null,
   "id": "immune-stone",
   "metadata": {},
   "outputs": [],
   "source": []
  }
 ],
 "metadata": {
  "kernelspec": {
   "display_name": "Python 3",
   "language": "python",
   "name": "python3"
  },
  "language_info": {
   "codemirror_mode": {
    "name": "ipython",
    "version": 3
   },
   "file_extension": ".py",
   "mimetype": "text/x-python",
   "name": "python",
   "nbconvert_exporter": "python",
   "pygments_lexer": "ipython3",
   "version": "3.7.5"
  }
 },
 "nbformat": 4,
 "nbformat_minor": 5
}
